{
  "cells": [
    {
      "cell_type": "markdown",
      "id": "d44c58d9",
      "metadata": {
        "id": "d44c58d9"
      },
      "source": [
        "## **Importing libraries**"
      ]
    },
    {
      "cell_type": "code",
      "execution_count": 1,
      "id": "9f61ed64",
      "metadata": {
        "id": "9f61ed64"
      },
      "outputs": [],
      "source": [
        "import pickle\n",
        "import numpy as np\n",
        "import pandas as pd\n",
        "import seaborn as sns\n",
        "import matplotlib.pyplot as plt\n",
        "\n",
        "\n",
        "# Stratified Sample split\n",
        "from sklearn.model_selection import StratifiedKFold, StratifiedShuffleSplit\n",
        "from sklearn.impute import SimpleImputer\n",
        "from sklearn.cluster import KMeans\n",
        "\n",
        "from sklearn.metrics import accuracy_score, confusion_matrix, precision_score, classification_report, f1_score, recall_score\n",
        "from sklearn.linear_model import LogisticRegression\n",
        "from xgboost import XGBClassifier\n",
        "from lightgbm import LGBMClassifier\n",
        "\n",
        "from sklearn.preprocessing import PolynomialFeatures, StandardScaler, LabelEncoder, OneHotEncoder\n",
        "from imblearn.over_sampling import SMOTE\n",
        "\n",
        "from sklearn.compose import make_column_transformer\n",
        "from sklearn.pipeline import Pipeline, make_pipeline\n",
        "from sklearn.base import BaseEstimator, TransformerMixin\n",
        "\n",
        "import warnings\n",
        "warnings.filterwarnings('ignore')"
      ]
    },
    {
      "cell_type": "code",
      "execution_count": 2,
      "id": "d83e6bbe",
      "metadata": {
        "id": "d83e6bbe"
      },
      "outputs": [],
      "source": [
        "seed = 47\n",
        "np.random.seed(47)"
      ]
    },
    {
      "cell_type": "markdown",
      "id": "4b952ad6",
      "metadata": {
        "id": "4b952ad6"
      },
      "source": [
        "## **Importing the datasets**"
      ]
    },
    {
      "cell_type": "code",
      "execution_count": 3,
      "id": "8c6654e7",
      "metadata": {
        "id": "8c6654e7"
      },
      "outputs": [],
      "source": [
        "train = pd.read_csv('data/churn-bigml-80.csv')\n",
        "test = pd.read_csv('data/churn-bigml-20.csv')"
      ]
    },
    {
      "cell_type": "markdown",
      "source": [
        "## **Data Cleaning**"
      ],
      "metadata": {
        "id": "J6vDoZHBE-y4"
      },
      "id": "J6vDoZHBE-y4"
    },
    {
      "cell_type": "code",
      "source": [
        "train.columns = [x.lower().replace(\" \",\"_\") for x in train.columns]\n",
        "test.columns = [x.lower().replace(\" \",\"_\") for x in train.columns]"
      ],
      "metadata": {
        "id": "WVjYQInR_15A"
      },
      "id": "WVjYQInR_15A",
      "execution_count": 4,
      "outputs": []
    },
    {
      "cell_type": "code",
      "source": [
        "print(f\"The train data contains {train.isnull().sum().sum()} missing data\")\n",
        "print(f\"The test data contains {test.isnull().sum().sum()} missing data\")"
      ],
      "metadata": {
        "colab": {
          "base_uri": "https://localhost:8080/"
        },
        "id": "ecHioEXp_2N-",
        "outputId": "2510ea9d-562a-4f45-8d75-f508ac9084bd"
      },
      "id": "ecHioEXp_2N-",
      "execution_count": 5,
      "outputs": [
        {
          "output_type": "stream",
          "name": "stdout",
          "text": [
            "The train data contains 0 missing data\n",
            "The test data contains 0 missing data\n"
          ]
        }
      ]
    },
    {
      "cell_type": "code",
      "source": [
        "churn_encode = {'False':0, 'True': 1}\n",
        "train['churn'] = train['churn'].astype(int)\n",
        "test['churn'] = test['churn'].astype(int)\n",
        "\n",
        "train['area_code'] = train['area_code'].astype(str) \n",
        "test['area_code'] = test['area_code'].astype(str) "
      ],
      "metadata": {
        "id": "S_6-cgD1_2UC"
      },
      "id": "S_6-cgD1_2UC",
      "execution_count": 6,
      "outputs": []
    },
    {
      "cell_type": "code",
      "source": [
        "X_train = train.drop(['churn', 'state'], axis = 1)\n",
        "y_train = train['churn'].copy()\n",
        "\n",
        "X_test = test.drop(['churn', 'state'], axis = 1)\n",
        "y_test = test['churn'].copy()"
      ],
      "metadata": {
        "id": "mVwvPEPWCdNZ"
      },
      "id": "mVwvPEPWCdNZ",
      "execution_count": 7,
      "outputs": []
    },
    {
      "cell_type": "code",
      "source": [
        "X_train.head()"
      ],
      "metadata": {
        "colab": {
          "base_uri": "https://localhost:8080/",
          "height": 0
        },
        "id": "gDlC1DYoGfLT",
        "outputId": "bd42018d-9fa1-4a67-e62b-a27527dd3a10"
      },
      "id": "gDlC1DYoGfLT",
      "execution_count": 8,
      "outputs": [
        {
          "output_type": "execute_result",
          "data": {
            "text/plain": [
              "   account_length area_code international_plan voice_mail_plan  \\\n",
              "0             128       415                 No             Yes   \n",
              "1             107       415                 No             Yes   \n",
              "2             137       415                 No              No   \n",
              "3              84       408                Yes              No   \n",
              "4              75       415                Yes              No   \n",
              "\n",
              "   number_vmail_messages  total_day_minutes  total_day_calls  \\\n",
              "0                     25              265.1              110   \n",
              "1                     26              161.6              123   \n",
              "2                      0              243.4              114   \n",
              "3                      0              299.4               71   \n",
              "4                      0              166.7              113   \n",
              "\n",
              "   total_day_charge  total_eve_minutes  total_eve_calls  total_eve_charge  \\\n",
              "0             45.07              197.4               99             16.78   \n",
              "1             27.47              195.5              103             16.62   \n",
              "2             41.38              121.2              110             10.30   \n",
              "3             50.90               61.9               88              5.26   \n",
              "4             28.34              148.3              122             12.61   \n",
              "\n",
              "   total_night_minutes  total_night_calls  total_night_charge  \\\n",
              "0                244.7                 91               11.01   \n",
              "1                254.4                103               11.45   \n",
              "2                162.6                104                7.32   \n",
              "3                196.9                 89                8.86   \n",
              "4                186.9                121                8.41   \n",
              "\n",
              "   total_intl_minutes  total_intl_calls  total_intl_charge  \\\n",
              "0                10.0                 3               2.70   \n",
              "1                13.7                 3               3.70   \n",
              "2                12.2                 5               3.29   \n",
              "3                 6.6                 7               1.78   \n",
              "4                10.1                 3               2.73   \n",
              "\n",
              "   customer_service_calls  \n",
              "0                       1  \n",
              "1                       1  \n",
              "2                       0  \n",
              "3                       2  \n",
              "4                       3  "
            ],
            "text/html": [
              "\n",
              "  <div id=\"df-8583d485-8616-4d2b-bfe3-59b00c6971cb\">\n",
              "    <div class=\"colab-df-container\">\n",
              "      <div>\n",
              "<style scoped>\n",
              "    .dataframe tbody tr th:only-of-type {\n",
              "        vertical-align: middle;\n",
              "    }\n",
              "\n",
              "    .dataframe tbody tr th {\n",
              "        vertical-align: top;\n",
              "    }\n",
              "\n",
              "    .dataframe thead th {\n",
              "        text-align: right;\n",
              "    }\n",
              "</style>\n",
              "<table border=\"1\" class=\"dataframe\">\n",
              "  <thead>\n",
              "    <tr style=\"text-align: right;\">\n",
              "      <th></th>\n",
              "      <th>account_length</th>\n",
              "      <th>area_code</th>\n",
              "      <th>international_plan</th>\n",
              "      <th>voice_mail_plan</th>\n",
              "      <th>number_vmail_messages</th>\n",
              "      <th>total_day_minutes</th>\n",
              "      <th>total_day_calls</th>\n",
              "      <th>total_day_charge</th>\n",
              "      <th>total_eve_minutes</th>\n",
              "      <th>total_eve_calls</th>\n",
              "      <th>total_eve_charge</th>\n",
              "      <th>total_night_minutes</th>\n",
              "      <th>total_night_calls</th>\n",
              "      <th>total_night_charge</th>\n",
              "      <th>total_intl_minutes</th>\n",
              "      <th>total_intl_calls</th>\n",
              "      <th>total_intl_charge</th>\n",
              "      <th>customer_service_calls</th>\n",
              "    </tr>\n",
              "  </thead>\n",
              "  <tbody>\n",
              "    <tr>\n",
              "      <th>0</th>\n",
              "      <td>128</td>\n",
              "      <td>415</td>\n",
              "      <td>No</td>\n",
              "      <td>Yes</td>\n",
              "      <td>25</td>\n",
              "      <td>265.1</td>\n",
              "      <td>110</td>\n",
              "      <td>45.07</td>\n",
              "      <td>197.4</td>\n",
              "      <td>99</td>\n",
              "      <td>16.78</td>\n",
              "      <td>244.7</td>\n",
              "      <td>91</td>\n",
              "      <td>11.01</td>\n",
              "      <td>10.0</td>\n",
              "      <td>3</td>\n",
              "      <td>2.70</td>\n",
              "      <td>1</td>\n",
              "    </tr>\n",
              "    <tr>\n",
              "      <th>1</th>\n",
              "      <td>107</td>\n",
              "      <td>415</td>\n",
              "      <td>No</td>\n",
              "      <td>Yes</td>\n",
              "      <td>26</td>\n",
              "      <td>161.6</td>\n",
              "      <td>123</td>\n",
              "      <td>27.47</td>\n",
              "      <td>195.5</td>\n",
              "      <td>103</td>\n",
              "      <td>16.62</td>\n",
              "      <td>254.4</td>\n",
              "      <td>103</td>\n",
              "      <td>11.45</td>\n",
              "      <td>13.7</td>\n",
              "      <td>3</td>\n",
              "      <td>3.70</td>\n",
              "      <td>1</td>\n",
              "    </tr>\n",
              "    <tr>\n",
              "      <th>2</th>\n",
              "      <td>137</td>\n",
              "      <td>415</td>\n",
              "      <td>No</td>\n",
              "      <td>No</td>\n",
              "      <td>0</td>\n",
              "      <td>243.4</td>\n",
              "      <td>114</td>\n",
              "      <td>41.38</td>\n",
              "      <td>121.2</td>\n",
              "      <td>110</td>\n",
              "      <td>10.30</td>\n",
              "      <td>162.6</td>\n",
              "      <td>104</td>\n",
              "      <td>7.32</td>\n",
              "      <td>12.2</td>\n",
              "      <td>5</td>\n",
              "      <td>3.29</td>\n",
              "      <td>0</td>\n",
              "    </tr>\n",
              "    <tr>\n",
              "      <th>3</th>\n",
              "      <td>84</td>\n",
              "      <td>408</td>\n",
              "      <td>Yes</td>\n",
              "      <td>No</td>\n",
              "      <td>0</td>\n",
              "      <td>299.4</td>\n",
              "      <td>71</td>\n",
              "      <td>50.90</td>\n",
              "      <td>61.9</td>\n",
              "      <td>88</td>\n",
              "      <td>5.26</td>\n",
              "      <td>196.9</td>\n",
              "      <td>89</td>\n",
              "      <td>8.86</td>\n",
              "      <td>6.6</td>\n",
              "      <td>7</td>\n",
              "      <td>1.78</td>\n",
              "      <td>2</td>\n",
              "    </tr>\n",
              "    <tr>\n",
              "      <th>4</th>\n",
              "      <td>75</td>\n",
              "      <td>415</td>\n",
              "      <td>Yes</td>\n",
              "      <td>No</td>\n",
              "      <td>0</td>\n",
              "      <td>166.7</td>\n",
              "      <td>113</td>\n",
              "      <td>28.34</td>\n",
              "      <td>148.3</td>\n",
              "      <td>122</td>\n",
              "      <td>12.61</td>\n",
              "      <td>186.9</td>\n",
              "      <td>121</td>\n",
              "      <td>8.41</td>\n",
              "      <td>10.1</td>\n",
              "      <td>3</td>\n",
              "      <td>2.73</td>\n",
              "      <td>3</td>\n",
              "    </tr>\n",
              "  </tbody>\n",
              "</table>\n",
              "</div>\n",
              "      <button class=\"colab-df-convert\" onclick=\"convertToInteractive('df-8583d485-8616-4d2b-bfe3-59b00c6971cb')\"\n",
              "              title=\"Convert this dataframe to an interactive table.\"\n",
              "              style=\"display:none;\">\n",
              "        \n",
              "  <svg xmlns=\"http://www.w3.org/2000/svg\" height=\"24px\"viewBox=\"0 0 24 24\"\n",
              "       width=\"24px\">\n",
              "    <path d=\"M0 0h24v24H0V0z\" fill=\"none\"/>\n",
              "    <path d=\"M18.56 5.44l.94 2.06.94-2.06 2.06-.94-2.06-.94-.94-2.06-.94 2.06-2.06.94zm-11 1L8.5 8.5l.94-2.06 2.06-.94-2.06-.94L8.5 2.5l-.94 2.06-2.06.94zm10 10l.94 2.06.94-2.06 2.06-.94-2.06-.94-.94-2.06-.94 2.06-2.06.94z\"/><path d=\"M17.41 7.96l-1.37-1.37c-.4-.4-.92-.59-1.43-.59-.52 0-1.04.2-1.43.59L10.3 9.45l-7.72 7.72c-.78.78-.78 2.05 0 2.83L4 21.41c.39.39.9.59 1.41.59.51 0 1.02-.2 1.41-.59l7.78-7.78 2.81-2.81c.8-.78.8-2.07 0-2.86zM5.41 20L4 18.59l7.72-7.72 1.47 1.35L5.41 20z\"/>\n",
              "  </svg>\n",
              "      </button>\n",
              "      \n",
              "  <style>\n",
              "    .colab-df-container {\n",
              "      display:flex;\n",
              "      flex-wrap:wrap;\n",
              "      gap: 12px;\n",
              "    }\n",
              "\n",
              "    .colab-df-convert {\n",
              "      background-color: #E8F0FE;\n",
              "      border: none;\n",
              "      border-radius: 50%;\n",
              "      cursor: pointer;\n",
              "      display: none;\n",
              "      fill: #1967D2;\n",
              "      height: 32px;\n",
              "      padding: 0 0 0 0;\n",
              "      width: 32px;\n",
              "    }\n",
              "\n",
              "    .colab-df-convert:hover {\n",
              "      background-color: #E2EBFA;\n",
              "      box-shadow: 0px 1px 2px rgba(60, 64, 67, 0.3), 0px 1px 3px 1px rgba(60, 64, 67, 0.15);\n",
              "      fill: #174EA6;\n",
              "    }\n",
              "\n",
              "    [theme=dark] .colab-df-convert {\n",
              "      background-color: #3B4455;\n",
              "      fill: #D2E3FC;\n",
              "    }\n",
              "\n",
              "    [theme=dark] .colab-df-convert:hover {\n",
              "      background-color: #434B5C;\n",
              "      box-shadow: 0px 1px 3px 1px rgba(0, 0, 0, 0.15);\n",
              "      filter: drop-shadow(0px 1px 2px rgba(0, 0, 0, 0.3));\n",
              "      fill: #FFFFFF;\n",
              "    }\n",
              "  </style>\n",
              "\n",
              "      <script>\n",
              "        const buttonEl =\n",
              "          document.querySelector('#df-8583d485-8616-4d2b-bfe3-59b00c6971cb button.colab-df-convert');\n",
              "        buttonEl.style.display =\n",
              "          google.colab.kernel.accessAllowed ? 'block' : 'none';\n",
              "\n",
              "        async function convertToInteractive(key) {\n",
              "          const element = document.querySelector('#df-8583d485-8616-4d2b-bfe3-59b00c6971cb');\n",
              "          const dataTable =\n",
              "            await google.colab.kernel.invokeFunction('convertToInteractive',\n",
              "                                                     [key], {});\n",
              "          if (!dataTable) return;\n",
              "\n",
              "          const docLinkHtml = 'Like what you see? Visit the ' +\n",
              "            '<a target=\"_blank\" href=https://colab.research.google.com/notebooks/data_table.ipynb>data table notebook</a>'\n",
              "            + ' to learn more about interactive tables.';\n",
              "          element.innerHTML = '';\n",
              "          dataTable['output_type'] = 'display_data';\n",
              "          await google.colab.output.renderOutput(dataTable, element);\n",
              "          const docLink = document.createElement('div');\n",
              "          docLink.innerHTML = docLinkHtml;\n",
              "          element.appendChild(docLink);\n",
              "        }\n",
              "      </script>\n",
              "    </div>\n",
              "  </div>\n",
              "  "
            ]
          },
          "metadata": {},
          "execution_count": 8
        }
      ]
    },
    {
      "cell_type": "markdown",
      "source": [
        "## **Data Exploration**"
      ],
      "metadata": {
        "id": "_1aLLCja_6Cu"
      },
      "id": "_1aLLCja_6Cu"
    },
    {
      "cell_type": "code",
      "source": [
        "X_train.shape, X_test.shape, y_train.shape, y_test.shape"
      ],
      "metadata": {
        "colab": {
          "base_uri": "https://localhost:8080/"
        },
        "id": "wMyRtuarDaI9",
        "outputId": "bd588930-496c-4885-e2e3-6c3a89f92591"
      },
      "id": "wMyRtuarDaI9",
      "execution_count": 9,
      "outputs": [
        {
          "output_type": "execute_result",
          "data": {
            "text/plain": [
              "((2666, 18), (667, 18), (2666,), (667,))"
            ]
          },
          "metadata": {},
          "execution_count": 9
        }
      ]
    },
    {
      "cell_type": "code",
      "source": [
        "categorical_data = X_train.select_dtypes(include = ['object'])\n",
        "numerical_data = X_train.select_dtypes(exclude = ['object'])"
      ],
      "metadata": {
        "id": "zqD3J00cDaPh"
      },
      "id": "zqD3J00cDaPh",
      "execution_count": 10,
      "outputs": []
    },
    {
      "cell_type": "code",
      "source": [
        "categorical_data.describe()"
      ],
      "metadata": {
        "colab": {
          "base_uri": "https://localhost:8080/",
          "height": 0
        },
        "id": "46YocSUsDaVp",
        "outputId": "a29fe174-fac5-4e26-fdb8-b4011fd66635"
      },
      "id": "46YocSUsDaVp",
      "execution_count": 11,
      "outputs": [
        {
          "output_type": "execute_result",
          "data": {
            "text/plain": [
              "       area_code international_plan voice_mail_plan\n",
              "count       2666               2666            2666\n",
              "unique         3                  2               2\n",
              "top          415                 No              No\n",
              "freq        1318               2396            1933"
            ],
            "text/html": [
              "\n",
              "  <div id=\"df-e5e44bcd-8aba-4bc6-a50e-230a6526774a\">\n",
              "    <div class=\"colab-df-container\">\n",
              "      <div>\n",
              "<style scoped>\n",
              "    .dataframe tbody tr th:only-of-type {\n",
              "        vertical-align: middle;\n",
              "    }\n",
              "\n",
              "    .dataframe tbody tr th {\n",
              "        vertical-align: top;\n",
              "    }\n",
              "\n",
              "    .dataframe thead th {\n",
              "        text-align: right;\n",
              "    }\n",
              "</style>\n",
              "<table border=\"1\" class=\"dataframe\">\n",
              "  <thead>\n",
              "    <tr style=\"text-align: right;\">\n",
              "      <th></th>\n",
              "      <th>area_code</th>\n",
              "      <th>international_plan</th>\n",
              "      <th>voice_mail_plan</th>\n",
              "    </tr>\n",
              "  </thead>\n",
              "  <tbody>\n",
              "    <tr>\n",
              "      <th>count</th>\n",
              "      <td>2666</td>\n",
              "      <td>2666</td>\n",
              "      <td>2666</td>\n",
              "    </tr>\n",
              "    <tr>\n",
              "      <th>unique</th>\n",
              "      <td>3</td>\n",
              "      <td>2</td>\n",
              "      <td>2</td>\n",
              "    </tr>\n",
              "    <tr>\n",
              "      <th>top</th>\n",
              "      <td>415</td>\n",
              "      <td>No</td>\n",
              "      <td>No</td>\n",
              "    </tr>\n",
              "    <tr>\n",
              "      <th>freq</th>\n",
              "      <td>1318</td>\n",
              "      <td>2396</td>\n",
              "      <td>1933</td>\n",
              "    </tr>\n",
              "  </tbody>\n",
              "</table>\n",
              "</div>\n",
              "      <button class=\"colab-df-convert\" onclick=\"convertToInteractive('df-e5e44bcd-8aba-4bc6-a50e-230a6526774a')\"\n",
              "              title=\"Convert this dataframe to an interactive table.\"\n",
              "              style=\"display:none;\">\n",
              "        \n",
              "  <svg xmlns=\"http://www.w3.org/2000/svg\" height=\"24px\"viewBox=\"0 0 24 24\"\n",
              "       width=\"24px\">\n",
              "    <path d=\"M0 0h24v24H0V0z\" fill=\"none\"/>\n",
              "    <path d=\"M18.56 5.44l.94 2.06.94-2.06 2.06-.94-2.06-.94-.94-2.06-.94 2.06-2.06.94zm-11 1L8.5 8.5l.94-2.06 2.06-.94-2.06-.94L8.5 2.5l-.94 2.06-2.06.94zm10 10l.94 2.06.94-2.06 2.06-.94-2.06-.94-.94-2.06-.94 2.06-2.06.94z\"/><path d=\"M17.41 7.96l-1.37-1.37c-.4-.4-.92-.59-1.43-.59-.52 0-1.04.2-1.43.59L10.3 9.45l-7.72 7.72c-.78.78-.78 2.05 0 2.83L4 21.41c.39.39.9.59 1.41.59.51 0 1.02-.2 1.41-.59l7.78-7.78 2.81-2.81c.8-.78.8-2.07 0-2.86zM5.41 20L4 18.59l7.72-7.72 1.47 1.35L5.41 20z\"/>\n",
              "  </svg>\n",
              "      </button>\n",
              "      \n",
              "  <style>\n",
              "    .colab-df-container {\n",
              "      display:flex;\n",
              "      flex-wrap:wrap;\n",
              "      gap: 12px;\n",
              "    }\n",
              "\n",
              "    .colab-df-convert {\n",
              "      background-color: #E8F0FE;\n",
              "      border: none;\n",
              "      border-radius: 50%;\n",
              "      cursor: pointer;\n",
              "      display: none;\n",
              "      fill: #1967D2;\n",
              "      height: 32px;\n",
              "      padding: 0 0 0 0;\n",
              "      width: 32px;\n",
              "    }\n",
              "\n",
              "    .colab-df-convert:hover {\n",
              "      background-color: #E2EBFA;\n",
              "      box-shadow: 0px 1px 2px rgba(60, 64, 67, 0.3), 0px 1px 3px 1px rgba(60, 64, 67, 0.15);\n",
              "      fill: #174EA6;\n",
              "    }\n",
              "\n",
              "    [theme=dark] .colab-df-convert {\n",
              "      background-color: #3B4455;\n",
              "      fill: #D2E3FC;\n",
              "    }\n",
              "\n",
              "    [theme=dark] .colab-df-convert:hover {\n",
              "      background-color: #434B5C;\n",
              "      box-shadow: 0px 1px 3px 1px rgba(0, 0, 0, 0.15);\n",
              "      filter: drop-shadow(0px 1px 2px rgba(0, 0, 0, 0.3));\n",
              "      fill: #FFFFFF;\n",
              "    }\n",
              "  </style>\n",
              "\n",
              "      <script>\n",
              "        const buttonEl =\n",
              "          document.querySelector('#df-e5e44bcd-8aba-4bc6-a50e-230a6526774a button.colab-df-convert');\n",
              "        buttonEl.style.display =\n",
              "          google.colab.kernel.accessAllowed ? 'block' : 'none';\n",
              "\n",
              "        async function convertToInteractive(key) {\n",
              "          const element = document.querySelector('#df-e5e44bcd-8aba-4bc6-a50e-230a6526774a');\n",
              "          const dataTable =\n",
              "            await google.colab.kernel.invokeFunction('convertToInteractive',\n",
              "                                                     [key], {});\n",
              "          if (!dataTable) return;\n",
              "\n",
              "          const docLinkHtml = 'Like what you see? Visit the ' +\n",
              "            '<a target=\"_blank\" href=https://colab.research.google.com/notebooks/data_table.ipynb>data table notebook</a>'\n",
              "            + ' to learn more about interactive tables.';\n",
              "          element.innerHTML = '';\n",
              "          dataTable['output_type'] = 'display_data';\n",
              "          await google.colab.output.renderOutput(dataTable, element);\n",
              "          const docLink = document.createElement('div');\n",
              "          docLink.innerHTML = docLinkHtml;\n",
              "          element.appendChild(docLink);\n",
              "        }\n",
              "      </script>\n",
              "    </div>\n",
              "  </div>\n",
              "  "
            ]
          },
          "metadata": {},
          "execution_count": 11
        }
      ]
    },
    {
      "cell_type": "code",
      "source": [
        "numerical_data.describe()"
      ],
      "metadata": {
        "colab": {
          "base_uri": "https://localhost:8080/",
          "height": 0
        },
        "id": "QmmIEaMrDacX",
        "outputId": "f6f9d474-b67f-4a19-e28a-af4c5d00d638"
      },
      "id": "QmmIEaMrDacX",
      "execution_count": 12,
      "outputs": [
        {
          "output_type": "execute_result",
          "data": {
            "text/plain": [
              "       account_length  number_vmail_messages  total_day_minutes  \\\n",
              "count     2666.000000            2666.000000         2666.00000   \n",
              "mean       100.620405               8.021755          179.48162   \n",
              "std         39.563974              13.612277           54.21035   \n",
              "min          1.000000               0.000000            0.00000   \n",
              "25%         73.000000               0.000000          143.40000   \n",
              "50%        100.000000               0.000000          179.95000   \n",
              "75%        127.000000              19.000000          215.90000   \n",
              "max        243.000000              50.000000          350.80000   \n",
              "\n",
              "       total_day_calls  total_day_charge  total_eve_minutes  total_eve_calls  \\\n",
              "count      2666.000000       2666.000000        2666.000000      2666.000000   \n",
              "mean        100.310203         30.512404         200.386159       100.023631   \n",
              "std          19.988162          9.215733          50.951515        20.161445   \n",
              "min           0.000000          0.000000           0.000000         0.000000   \n",
              "25%          87.000000         24.380000         165.300000        87.000000   \n",
              "50%         101.000000         30.590000         200.900000       100.000000   \n",
              "75%         114.000000         36.700000         235.100000       114.000000   \n",
              "max         160.000000         59.640000         363.700000       170.000000   \n",
              "\n",
              "       total_eve_charge  total_night_minutes  total_night_calls  \\\n",
              "count       2666.000000          2666.000000        2666.000000   \n",
              "mean          17.033072           201.168942         100.106152   \n",
              "std            4.330864            50.780323          19.418459   \n",
              "min            0.000000            43.700000          33.000000   \n",
              "25%           14.050000           166.925000          87.000000   \n",
              "50%           17.080000           201.150000         100.000000   \n",
              "75%           19.980000           236.475000         113.000000   \n",
              "max           30.910000           395.000000         166.000000   \n",
              "\n",
              "       total_night_charge  total_intl_minutes  total_intl_calls  \\\n",
              "count         2666.000000         2666.000000       2666.000000   \n",
              "mean             9.052689           10.237022          4.467367   \n",
              "std              2.285120            2.788349          2.456195   \n",
              "min              1.970000            0.000000          0.000000   \n",
              "25%              7.512500            8.500000          3.000000   \n",
              "50%              9.050000           10.200000          4.000000   \n",
              "75%             10.640000           12.100000          6.000000   \n",
              "max             17.770000           20.000000         20.000000   \n",
              "\n",
              "       total_intl_charge  customer_service_calls  \n",
              "count        2666.000000             2666.000000  \n",
              "mean            2.764490                1.562641  \n",
              "std             0.752812                1.311236  \n",
              "min             0.000000                0.000000  \n",
              "25%             2.300000                1.000000  \n",
              "50%             2.750000                1.000000  \n",
              "75%             3.270000                2.000000  \n",
              "max             5.400000                9.000000  "
            ],
            "text/html": [
              "\n",
              "  <div id=\"df-d9015700-3e4e-4d65-89bf-2e13f2de5f7f\">\n",
              "    <div class=\"colab-df-container\">\n",
              "      <div>\n",
              "<style scoped>\n",
              "    .dataframe tbody tr th:only-of-type {\n",
              "        vertical-align: middle;\n",
              "    }\n",
              "\n",
              "    .dataframe tbody tr th {\n",
              "        vertical-align: top;\n",
              "    }\n",
              "\n",
              "    .dataframe thead th {\n",
              "        text-align: right;\n",
              "    }\n",
              "</style>\n",
              "<table border=\"1\" class=\"dataframe\">\n",
              "  <thead>\n",
              "    <tr style=\"text-align: right;\">\n",
              "      <th></th>\n",
              "      <th>account_length</th>\n",
              "      <th>number_vmail_messages</th>\n",
              "      <th>total_day_minutes</th>\n",
              "      <th>total_day_calls</th>\n",
              "      <th>total_day_charge</th>\n",
              "      <th>total_eve_minutes</th>\n",
              "      <th>total_eve_calls</th>\n",
              "      <th>total_eve_charge</th>\n",
              "      <th>total_night_minutes</th>\n",
              "      <th>total_night_calls</th>\n",
              "      <th>total_night_charge</th>\n",
              "      <th>total_intl_minutes</th>\n",
              "      <th>total_intl_calls</th>\n",
              "      <th>total_intl_charge</th>\n",
              "      <th>customer_service_calls</th>\n",
              "    </tr>\n",
              "  </thead>\n",
              "  <tbody>\n",
              "    <tr>\n",
              "      <th>count</th>\n",
              "      <td>2666.000000</td>\n",
              "      <td>2666.000000</td>\n",
              "      <td>2666.00000</td>\n",
              "      <td>2666.000000</td>\n",
              "      <td>2666.000000</td>\n",
              "      <td>2666.000000</td>\n",
              "      <td>2666.000000</td>\n",
              "      <td>2666.000000</td>\n",
              "      <td>2666.000000</td>\n",
              "      <td>2666.000000</td>\n",
              "      <td>2666.000000</td>\n",
              "      <td>2666.000000</td>\n",
              "      <td>2666.000000</td>\n",
              "      <td>2666.000000</td>\n",
              "      <td>2666.000000</td>\n",
              "    </tr>\n",
              "    <tr>\n",
              "      <th>mean</th>\n",
              "      <td>100.620405</td>\n",
              "      <td>8.021755</td>\n",
              "      <td>179.48162</td>\n",
              "      <td>100.310203</td>\n",
              "      <td>30.512404</td>\n",
              "      <td>200.386159</td>\n",
              "      <td>100.023631</td>\n",
              "      <td>17.033072</td>\n",
              "      <td>201.168942</td>\n",
              "      <td>100.106152</td>\n",
              "      <td>9.052689</td>\n",
              "      <td>10.237022</td>\n",
              "      <td>4.467367</td>\n",
              "      <td>2.764490</td>\n",
              "      <td>1.562641</td>\n",
              "    </tr>\n",
              "    <tr>\n",
              "      <th>std</th>\n",
              "      <td>39.563974</td>\n",
              "      <td>13.612277</td>\n",
              "      <td>54.21035</td>\n",
              "      <td>19.988162</td>\n",
              "      <td>9.215733</td>\n",
              "      <td>50.951515</td>\n",
              "      <td>20.161445</td>\n",
              "      <td>4.330864</td>\n",
              "      <td>50.780323</td>\n",
              "      <td>19.418459</td>\n",
              "      <td>2.285120</td>\n",
              "      <td>2.788349</td>\n",
              "      <td>2.456195</td>\n",
              "      <td>0.752812</td>\n",
              "      <td>1.311236</td>\n",
              "    </tr>\n",
              "    <tr>\n",
              "      <th>min</th>\n",
              "      <td>1.000000</td>\n",
              "      <td>0.000000</td>\n",
              "      <td>0.00000</td>\n",
              "      <td>0.000000</td>\n",
              "      <td>0.000000</td>\n",
              "      <td>0.000000</td>\n",
              "      <td>0.000000</td>\n",
              "      <td>0.000000</td>\n",
              "      <td>43.700000</td>\n",
              "      <td>33.000000</td>\n",
              "      <td>1.970000</td>\n",
              "      <td>0.000000</td>\n",
              "      <td>0.000000</td>\n",
              "      <td>0.000000</td>\n",
              "      <td>0.000000</td>\n",
              "    </tr>\n",
              "    <tr>\n",
              "      <th>25%</th>\n",
              "      <td>73.000000</td>\n",
              "      <td>0.000000</td>\n",
              "      <td>143.40000</td>\n",
              "      <td>87.000000</td>\n",
              "      <td>24.380000</td>\n",
              "      <td>165.300000</td>\n",
              "      <td>87.000000</td>\n",
              "      <td>14.050000</td>\n",
              "      <td>166.925000</td>\n",
              "      <td>87.000000</td>\n",
              "      <td>7.512500</td>\n",
              "      <td>8.500000</td>\n",
              "      <td>3.000000</td>\n",
              "      <td>2.300000</td>\n",
              "      <td>1.000000</td>\n",
              "    </tr>\n",
              "    <tr>\n",
              "      <th>50%</th>\n",
              "      <td>100.000000</td>\n",
              "      <td>0.000000</td>\n",
              "      <td>179.95000</td>\n",
              "      <td>101.000000</td>\n",
              "      <td>30.590000</td>\n",
              "      <td>200.900000</td>\n",
              "      <td>100.000000</td>\n",
              "      <td>17.080000</td>\n",
              "      <td>201.150000</td>\n",
              "      <td>100.000000</td>\n",
              "      <td>9.050000</td>\n",
              "      <td>10.200000</td>\n",
              "      <td>4.000000</td>\n",
              "      <td>2.750000</td>\n",
              "      <td>1.000000</td>\n",
              "    </tr>\n",
              "    <tr>\n",
              "      <th>75%</th>\n",
              "      <td>127.000000</td>\n",
              "      <td>19.000000</td>\n",
              "      <td>215.90000</td>\n",
              "      <td>114.000000</td>\n",
              "      <td>36.700000</td>\n",
              "      <td>235.100000</td>\n",
              "      <td>114.000000</td>\n",
              "      <td>19.980000</td>\n",
              "      <td>236.475000</td>\n",
              "      <td>113.000000</td>\n",
              "      <td>10.640000</td>\n",
              "      <td>12.100000</td>\n",
              "      <td>6.000000</td>\n",
              "      <td>3.270000</td>\n",
              "      <td>2.000000</td>\n",
              "    </tr>\n",
              "    <tr>\n",
              "      <th>max</th>\n",
              "      <td>243.000000</td>\n",
              "      <td>50.000000</td>\n",
              "      <td>350.80000</td>\n",
              "      <td>160.000000</td>\n",
              "      <td>59.640000</td>\n",
              "      <td>363.700000</td>\n",
              "      <td>170.000000</td>\n",
              "      <td>30.910000</td>\n",
              "      <td>395.000000</td>\n",
              "      <td>166.000000</td>\n",
              "      <td>17.770000</td>\n",
              "      <td>20.000000</td>\n",
              "      <td>20.000000</td>\n",
              "      <td>5.400000</td>\n",
              "      <td>9.000000</td>\n",
              "    </tr>\n",
              "  </tbody>\n",
              "</table>\n",
              "</div>\n",
              "      <button class=\"colab-df-convert\" onclick=\"convertToInteractive('df-d9015700-3e4e-4d65-89bf-2e13f2de5f7f')\"\n",
              "              title=\"Convert this dataframe to an interactive table.\"\n",
              "              style=\"display:none;\">\n",
              "        \n",
              "  <svg xmlns=\"http://www.w3.org/2000/svg\" height=\"24px\"viewBox=\"0 0 24 24\"\n",
              "       width=\"24px\">\n",
              "    <path d=\"M0 0h24v24H0V0z\" fill=\"none\"/>\n",
              "    <path d=\"M18.56 5.44l.94 2.06.94-2.06 2.06-.94-2.06-.94-.94-2.06-.94 2.06-2.06.94zm-11 1L8.5 8.5l.94-2.06 2.06-.94-2.06-.94L8.5 2.5l-.94 2.06-2.06.94zm10 10l.94 2.06.94-2.06 2.06-.94-2.06-.94-.94-2.06-.94 2.06-2.06.94z\"/><path d=\"M17.41 7.96l-1.37-1.37c-.4-.4-.92-.59-1.43-.59-.52 0-1.04.2-1.43.59L10.3 9.45l-7.72 7.72c-.78.78-.78 2.05 0 2.83L4 21.41c.39.39.9.59 1.41.59.51 0 1.02-.2 1.41-.59l7.78-7.78 2.81-2.81c.8-.78.8-2.07 0-2.86zM5.41 20L4 18.59l7.72-7.72 1.47 1.35L5.41 20z\"/>\n",
              "  </svg>\n",
              "      </button>\n",
              "      \n",
              "  <style>\n",
              "    .colab-df-container {\n",
              "      display:flex;\n",
              "      flex-wrap:wrap;\n",
              "      gap: 12px;\n",
              "    }\n",
              "\n",
              "    .colab-df-convert {\n",
              "      background-color: #E8F0FE;\n",
              "      border: none;\n",
              "      border-radius: 50%;\n",
              "      cursor: pointer;\n",
              "      display: none;\n",
              "      fill: #1967D2;\n",
              "      height: 32px;\n",
              "      padding: 0 0 0 0;\n",
              "      width: 32px;\n",
              "    }\n",
              "\n",
              "    .colab-df-convert:hover {\n",
              "      background-color: #E2EBFA;\n",
              "      box-shadow: 0px 1px 2px rgba(60, 64, 67, 0.3), 0px 1px 3px 1px rgba(60, 64, 67, 0.15);\n",
              "      fill: #174EA6;\n",
              "    }\n",
              "\n",
              "    [theme=dark] .colab-df-convert {\n",
              "      background-color: #3B4455;\n",
              "      fill: #D2E3FC;\n",
              "    }\n",
              "\n",
              "    [theme=dark] .colab-df-convert:hover {\n",
              "      background-color: #434B5C;\n",
              "      box-shadow: 0px 1px 3px 1px rgba(0, 0, 0, 0.15);\n",
              "      filter: drop-shadow(0px 1px 2px rgba(0, 0, 0, 0.3));\n",
              "      fill: #FFFFFF;\n",
              "    }\n",
              "  </style>\n",
              "\n",
              "      <script>\n",
              "        const buttonEl =\n",
              "          document.querySelector('#df-d9015700-3e4e-4d65-89bf-2e13f2de5f7f button.colab-df-convert');\n",
              "        buttonEl.style.display =\n",
              "          google.colab.kernel.accessAllowed ? 'block' : 'none';\n",
              "\n",
              "        async function convertToInteractive(key) {\n",
              "          const element = document.querySelector('#df-d9015700-3e4e-4d65-89bf-2e13f2de5f7f');\n",
              "          const dataTable =\n",
              "            await google.colab.kernel.invokeFunction('convertToInteractive',\n",
              "                                                     [key], {});\n",
              "          if (!dataTable) return;\n",
              "\n",
              "          const docLinkHtml = 'Like what you see? Visit the ' +\n",
              "            '<a target=\"_blank\" href=https://colab.research.google.com/notebooks/data_table.ipynb>data table notebook</a>'\n",
              "            + ' to learn more about interactive tables.';\n",
              "          element.innerHTML = '';\n",
              "          dataTable['output_type'] = 'display_data';\n",
              "          await google.colab.output.renderOutput(dataTable, element);\n",
              "          const docLink = document.createElement('div');\n",
              "          docLink.innerHTML = docLinkHtml;\n",
              "          element.appendChild(docLink);\n",
              "        }\n",
              "      </script>\n",
              "    </div>\n",
              "  </div>\n",
              "  "
            ]
          },
          "metadata": {},
          "execution_count": 12
        }
      ]
    },
    {
      "cell_type": "code",
      "source": [
        "y_train.value_counts(normalize = True)"
      ],
      "metadata": {
        "colab": {
          "base_uri": "https://localhost:8080/"
        },
        "id": "FGd7YIj_FimE",
        "outputId": "1c38cf61-819e-4714-d8a2-20bb0c5f722e"
      },
      "id": "FGd7YIj_FimE",
      "execution_count": 13,
      "outputs": [
        {
          "output_type": "execute_result",
          "data": {
            "text/plain": [
              "0    0.854464\n",
              "1    0.145536\n",
              "Name: churn, dtype: float64"
            ]
          },
          "metadata": {},
          "execution_count": 13
        }
      ]
    },
    {
      "cell_type": "markdown",
      "source": [
        "## **Call Price Calculation**"
      ],
      "metadata": {
        "id": "uP_bLgCU2EDW"
      },
      "id": "uP_bLgCU2EDW"
    },
    {
      "cell_type": "code",
      "source": [
        "call_prices = dict()\n",
        "\n",
        "call_prices[\"Day_charge\"] = (X_train[\"total_day_charge\"]/ X_train[\"total_day_minutes\"]).mean()\n",
        "call_prices[\"Eve_charge\"] = (X_train[\"total_eve_charge\"]/ X_train[\"total_eve_minutes\"]).mean()\n",
        "call_prices[\"Night_charge\"] = (X_train[\"total_night_charge\"]/ X_train[\"total_night_minutes\"]).mean()\n",
        "call_prices[\"Intl_charge\"] = (X_train[\"total_intl_charge\"]/ X_train[\"total_intl_minutes\"]).mean()"
      ],
      "metadata": {
        "id": "hVGqA-i-8rcT"
      },
      "id": "hVGqA-i-8rcT",
      "execution_count": 14,
      "outputs": []
    },
    {
      "cell_type": "code",
      "source": [
        "call_prices"
      ],
      "metadata": {
        "colab": {
          "base_uri": "https://localhost:8080/"
        },
        "id": "Kt0Jdujq9lHt",
        "outputId": "fd76d31c-0e96-45a1-a973-5ac17b603c8a"
      },
      "id": "Kt0Jdujq9lHt",
      "execution_count": 15,
      "outputs": [
        {
          "output_type": "execute_result",
          "data": {
            "text/plain": [
              "{'Day_charge': 0.17000322140576996,\n",
              " 'Eve_charge': 0.08500139200814222,\n",
              " 'Intl_charge': 0.2700548437359162,\n",
              " 'Night_charge': 0.04500046561728902}"
            ]
          },
          "metadata": {},
          "execution_count": 15
        }
      ]
    },
    {
      "cell_type": "code",
      "source": [
        "X_train.iloc[0, :]"
      ],
      "metadata": {
        "colab": {
          "base_uri": "https://localhost:8080/"
        },
        "id": "be-wNNFnNqgx",
        "outputId": "059ee997-4f1a-403d-b429-2e6655349c32"
      },
      "id": "be-wNNFnNqgx",
      "execution_count": 16,
      "outputs": [
        {
          "output_type": "execute_result",
          "data": {
            "text/plain": [
              "account_length              128\n",
              "area_code                   415\n",
              "international_plan           No\n",
              "voice_mail_plan             Yes\n",
              "number_vmail_messages        25\n",
              "total_day_minutes         265.1\n",
              "total_day_calls             110\n",
              "total_day_charge          45.07\n",
              "total_eve_minutes         197.4\n",
              "total_eve_calls              99\n",
              "total_eve_charge          16.78\n",
              "total_night_minutes       244.7\n",
              "total_night_calls            91\n",
              "total_night_charge        11.01\n",
              "total_intl_minutes         10.0\n",
              "total_intl_calls              3\n",
              "total_intl_charge           2.7\n",
              "customer_service_calls        1\n",
              "Name: 0, dtype: object"
            ]
          },
          "metadata": {},
          "execution_count": 16
        }
      ]
    },
    {
      "cell_type": "markdown",
      "source": [
        "## **Data Preparation and Modelling Pipeline**"
      ],
      "metadata": {
        "id": "QOCnix0HFUAI"
      },
      "id": "QOCnix0HFUAI"
    },
    {
      "cell_type": "code",
      "source": [
        "categorical_col = categorical_data.columns\n",
        "numerical_col = numerical_data.columns"
      ],
      "metadata": {
        "id": "1NMEeqYwI1kG"
      },
      "id": "1NMEeqYwI1kG",
      "execution_count": 17,
      "outputs": []
    },
    {
      "cell_type": "code",
      "source": [
        "scale = StandardScaler()\n",
        "l_encode = LabelEncoder()\n",
        "oh_encode = OneHotEncoder(sparse = False, drop = \"first\")\n",
        "\n",
        "model = XGBClassifier(objective='binary:logistic', max_depth =  10,\n",
        "          learning_rate = 0.06808766268462589, colsample_bytree = 0.5124699707194202, \n",
        "             subsample =  0.4553243247037658, reg_alpha =  1.5936907054484504, random_state = 117)"
      ],
      "metadata": {
        "id": "7ABrm4aDEsIQ"
      },
      "id": "7ABrm4aDEsIQ",
      "execution_count": 18,
      "outputs": []
    },
    {
      "cell_type": "code",
      "source": [
        "column_transformer_ = make_column_transformer(\n",
        "                      (oh_encode , categorical_col),\n",
        "                      (scale,  numerical_col),\n",
        "                      remainder = \"passthrough\")\n",
        "\n",
        "pipe = make_pipeline(column_transformer_, model)\n",
        "\n",
        "pipe.fit(X_train, y_train)"
      ],
      "metadata": {
        "colab": {
          "base_uri": "https://localhost:8080/"
        },
        "id": "Rx86qcZ0FQ1Q",
        "outputId": "f0632535-57d3-4486-e367-519e55f315d5"
      },
      "id": "Rx86qcZ0FQ1Q",
      "execution_count": 19,
      "outputs": [
        {
          "output_type": "execute_result",
          "data": {
            "text/plain": [
              "Pipeline(steps=[('columntransformer',\n",
              "                 ColumnTransformer(remainder='passthrough',\n",
              "                                   transformers=[('onehotencoder',\n",
              "                                                  OneHotEncoder(drop='first',\n",
              "                                                                sparse=False),\n",
              "                                                  Index(['area_code', 'international_plan', 'voice_mail_plan'], dtype='object')),\n",
              "                                                 ('standardscaler',\n",
              "                                                  StandardScaler(),\n",
              "                                                  Index(['account_length', 'number_vmail_messages', 'total_day_minutes',\n",
              "       'total_day_calls', 't...\n",
              "                               gamma=0, gpu_id=-1, grow_policy='depthwise',\n",
              "                               importance_type=None, interaction_constraints='',\n",
              "                               learning_rate=0.06808766268462589, max_bin=256,\n",
              "                               max_cat_to_onehot=4, max_delta_step=0,\n",
              "                               max_depth=10, max_leaves=0, min_child_weight=1,\n",
              "                               missing=nan, monotone_constraints='()',\n",
              "                               n_estimators=100, n_jobs=0, num_parallel_tree=1,\n",
              "                               predictor='auto', random_state=117,\n",
              "                               reg_alpha=1.5936907054484504, reg_lambda=1, ...))])"
            ]
          },
          "metadata": {},
          "execution_count": 19
        }
      ]
    },
    {
      "cell_type": "code",
      "source": [
        "from sklearn import set_config\n",
        "set_config(display = \"diagram\")\n",
        "column_transformer_"
      ],
      "metadata": {
        "colab": {
          "base_uri": "https://localhost:8080/",
          "height": 467
        },
        "id": "zTIGQeOTFQ9B",
        "outputId": "be8dd473-9012-4721-b21a-ed058ea4a5fb"
      },
      "id": "zTIGQeOTFQ9B",
      "execution_count": 20,
      "outputs": [
        {
          "output_type": "execute_result",
          "data": {
            "text/plain": [
              "ColumnTransformer(remainder='passthrough',\n",
              "                  transformers=[('onehotencoder',\n",
              "                                 OneHotEncoder(drop='first', sparse=False),\n",
              "                                 Index(['area_code', 'international_plan', 'voice_mail_plan'], dtype='object')),\n",
              "                                ('standardscaler', StandardScaler(),\n",
              "                                 Index(['account_length', 'number_vmail_messages', 'total_day_minutes',\n",
              "       'total_day_calls', 'total_day_charge', 'total_eve_minutes',\n",
              "       'total_eve_calls', 'total_eve_charge', 'total_night_minutes',\n",
              "       'total_night_calls', 'total_night_charge', 'total_intl_minutes',\n",
              "       'total_intl_calls', 'total_intl_charge', 'customer_service_calls'],\n",
              "      dtype='object'))])"
            ],
            "text/html": [
              "<style>#sk-ef080e2f-d84a-4779-965a-e3845a483194 {color: black;background-color: white;}#sk-ef080e2f-d84a-4779-965a-e3845a483194 pre{padding: 0;}#sk-ef080e2f-d84a-4779-965a-e3845a483194 div.sk-toggleable {background-color: white;}#sk-ef080e2f-d84a-4779-965a-e3845a483194 label.sk-toggleable__label {cursor: pointer;display: block;width: 100%;margin-bottom: 0;padding: 0.3em;box-sizing: border-box;text-align: center;}#sk-ef080e2f-d84a-4779-965a-e3845a483194 label.sk-toggleable__label-arrow:before {content: \"▸\";float: left;margin-right: 0.25em;color: #696969;}#sk-ef080e2f-d84a-4779-965a-e3845a483194 label.sk-toggleable__label-arrow:hover:before {color: black;}#sk-ef080e2f-d84a-4779-965a-e3845a483194 div.sk-estimator:hover label.sk-toggleable__label-arrow:before {color: black;}#sk-ef080e2f-d84a-4779-965a-e3845a483194 div.sk-toggleable__content {max-height: 0;max-width: 0;overflow: hidden;text-align: left;background-color: #f0f8ff;}#sk-ef080e2f-d84a-4779-965a-e3845a483194 div.sk-toggleable__content pre {margin: 0.2em;color: black;border-radius: 0.25em;background-color: #f0f8ff;}#sk-ef080e2f-d84a-4779-965a-e3845a483194 input.sk-toggleable__control:checked~div.sk-toggleable__content {max-height: 200px;max-width: 100%;overflow: auto;}#sk-ef080e2f-d84a-4779-965a-e3845a483194 input.sk-toggleable__control:checked~label.sk-toggleable__label-arrow:before {content: \"▾\";}#sk-ef080e2f-d84a-4779-965a-e3845a483194 div.sk-estimator input.sk-toggleable__control:checked~label.sk-toggleable__label {background-color: #d4ebff;}#sk-ef080e2f-d84a-4779-965a-e3845a483194 div.sk-label input.sk-toggleable__control:checked~label.sk-toggleable__label {background-color: #d4ebff;}#sk-ef080e2f-d84a-4779-965a-e3845a483194 input.sk-hidden--visually {border: 0;clip: rect(1px 1px 1px 1px);clip: rect(1px, 1px, 1px, 1px);height: 1px;margin: -1px;overflow: hidden;padding: 0;position: absolute;width: 1px;}#sk-ef080e2f-d84a-4779-965a-e3845a483194 div.sk-estimator {font-family: monospace;background-color: #f0f8ff;border: 1px dotted black;border-radius: 0.25em;box-sizing: border-box;margin-bottom: 0.5em;}#sk-ef080e2f-d84a-4779-965a-e3845a483194 div.sk-estimator:hover {background-color: #d4ebff;}#sk-ef080e2f-d84a-4779-965a-e3845a483194 div.sk-parallel-item::after {content: \"\";width: 100%;border-bottom: 1px solid gray;flex-grow: 1;}#sk-ef080e2f-d84a-4779-965a-e3845a483194 div.sk-label:hover label.sk-toggleable__label {background-color: #d4ebff;}#sk-ef080e2f-d84a-4779-965a-e3845a483194 div.sk-serial::before {content: \"\";position: absolute;border-left: 1px solid gray;box-sizing: border-box;top: 2em;bottom: 0;left: 50%;}#sk-ef080e2f-d84a-4779-965a-e3845a483194 div.sk-serial {display: flex;flex-direction: column;align-items: center;background-color: white;padding-right: 0.2em;padding-left: 0.2em;}#sk-ef080e2f-d84a-4779-965a-e3845a483194 div.sk-item {z-index: 1;}#sk-ef080e2f-d84a-4779-965a-e3845a483194 div.sk-parallel {display: flex;align-items: stretch;justify-content: center;background-color: white;}#sk-ef080e2f-d84a-4779-965a-e3845a483194 div.sk-parallel::before {content: \"\";position: absolute;border-left: 1px solid gray;box-sizing: border-box;top: 2em;bottom: 0;left: 50%;}#sk-ef080e2f-d84a-4779-965a-e3845a483194 div.sk-parallel-item {display: flex;flex-direction: column;position: relative;background-color: white;}#sk-ef080e2f-d84a-4779-965a-e3845a483194 div.sk-parallel-item:first-child::after {align-self: flex-end;width: 50%;}#sk-ef080e2f-d84a-4779-965a-e3845a483194 div.sk-parallel-item:last-child::after {align-self: flex-start;width: 50%;}#sk-ef080e2f-d84a-4779-965a-e3845a483194 div.sk-parallel-item:only-child::after {width: 0;}#sk-ef080e2f-d84a-4779-965a-e3845a483194 div.sk-dashed-wrapped {border: 1px dashed gray;margin: 0 0.4em 0.5em 0.4em;box-sizing: border-box;padding-bottom: 0.4em;background-color: white;position: relative;}#sk-ef080e2f-d84a-4779-965a-e3845a483194 div.sk-label label {font-family: monospace;font-weight: bold;background-color: white;display: inline-block;line-height: 1.2em;}#sk-ef080e2f-d84a-4779-965a-e3845a483194 div.sk-label-container {position: relative;z-index: 2;text-align: center;}#sk-ef080e2f-d84a-4779-965a-e3845a483194 div.sk-container {/* jupyter's `normalize.less` sets `[hidden] { display: none; }` but bootstrap.min.css set `[hidden] { display: none !important; }` so we also need the `!important` here to be able to override the default hidden behavior on the sphinx rendered scikit-learn.org. See: https://github.com/scikit-learn/scikit-learn/issues/21755 */display: inline-block !important;position: relative;}#sk-ef080e2f-d84a-4779-965a-e3845a483194 div.sk-text-repr-fallback {display: none;}</style><div id=\"sk-ef080e2f-d84a-4779-965a-e3845a483194\" class=\"sk-top-container\"><div class=\"sk-text-repr-fallback\"><pre>ColumnTransformer(remainder=&#x27;passthrough&#x27;,\n",
              "                  transformers=[(&#x27;onehotencoder&#x27;,\n",
              "                                 OneHotEncoder(drop=&#x27;first&#x27;, sparse=False),\n",
              "                                 Index([&#x27;area_code&#x27;, &#x27;international_plan&#x27;, &#x27;voice_mail_plan&#x27;], dtype=&#x27;object&#x27;)),\n",
              "                                (&#x27;standardscaler&#x27;, StandardScaler(),\n",
              "                                 Index([&#x27;account_length&#x27;, &#x27;number_vmail_messages&#x27;, &#x27;total_day_minutes&#x27;,\n",
              "       &#x27;total_day_calls&#x27;, &#x27;total_day_charge&#x27;, &#x27;total_eve_minutes&#x27;,\n",
              "       &#x27;total_eve_calls&#x27;, &#x27;total_eve_charge&#x27;, &#x27;total_night_minutes&#x27;,\n",
              "       &#x27;total_night_calls&#x27;, &#x27;total_night_charge&#x27;, &#x27;total_intl_minutes&#x27;,\n",
              "       &#x27;total_intl_calls&#x27;, &#x27;total_intl_charge&#x27;, &#x27;customer_service_calls&#x27;],\n",
              "      dtype=&#x27;object&#x27;))])</pre><b>Please rerun this cell to show the HTML repr or trust the notebook.</b></div><div class=\"sk-container\" hidden><div class=\"sk-item sk-dashed-wrapped\"><div class=\"sk-label-container\"><div class=\"sk-label sk-toggleable\"><input class=\"sk-toggleable__control sk-hidden--visually\" id=\"4480fc96-51aa-4223-baec-92c0bbc8a032\" type=\"checkbox\" ><label for=\"4480fc96-51aa-4223-baec-92c0bbc8a032\" class=\"sk-toggleable__label sk-toggleable__label-arrow\">ColumnTransformer</label><div class=\"sk-toggleable__content\"><pre>ColumnTransformer(remainder=&#x27;passthrough&#x27;,\n",
              "                  transformers=[(&#x27;onehotencoder&#x27;,\n",
              "                                 OneHotEncoder(drop=&#x27;first&#x27;, sparse=False),\n",
              "                                 Index([&#x27;area_code&#x27;, &#x27;international_plan&#x27;, &#x27;voice_mail_plan&#x27;], dtype=&#x27;object&#x27;)),\n",
              "                                (&#x27;standardscaler&#x27;, StandardScaler(),\n",
              "                                 Index([&#x27;account_length&#x27;, &#x27;number_vmail_messages&#x27;, &#x27;total_day_minutes&#x27;,\n",
              "       &#x27;total_day_calls&#x27;, &#x27;total_day_charge&#x27;, &#x27;total_eve_minutes&#x27;,\n",
              "       &#x27;total_eve_calls&#x27;, &#x27;total_eve_charge&#x27;, &#x27;total_night_minutes&#x27;,\n",
              "       &#x27;total_night_calls&#x27;, &#x27;total_night_charge&#x27;, &#x27;total_intl_minutes&#x27;,\n",
              "       &#x27;total_intl_calls&#x27;, &#x27;total_intl_charge&#x27;, &#x27;customer_service_calls&#x27;],\n",
              "      dtype=&#x27;object&#x27;))])</pre></div></div></div><div class=\"sk-parallel\"><div class=\"sk-parallel-item\"><div class=\"sk-item\"><div class=\"sk-label-container\"><div class=\"sk-label sk-toggleable\"><input class=\"sk-toggleable__control sk-hidden--visually\" id=\"ead97e1b-cd63-421c-8696-2ddb2a91ee2f\" type=\"checkbox\" ><label for=\"ead97e1b-cd63-421c-8696-2ddb2a91ee2f\" class=\"sk-toggleable__label sk-toggleable__label-arrow\">onehotencoder</label><div class=\"sk-toggleable__content\"><pre>Index([&#x27;area_code&#x27;, &#x27;international_plan&#x27;, &#x27;voice_mail_plan&#x27;], dtype=&#x27;object&#x27;)</pre></div></div></div><div class=\"sk-serial\"><div class=\"sk-item\"><div class=\"sk-estimator sk-toggleable\"><input class=\"sk-toggleable__control sk-hidden--visually\" id=\"12bc4dba-694c-4344-be5f-700f4490f1c6\" type=\"checkbox\" ><label for=\"12bc4dba-694c-4344-be5f-700f4490f1c6\" class=\"sk-toggleable__label sk-toggleable__label-arrow\">OneHotEncoder</label><div class=\"sk-toggleable__content\"><pre>OneHotEncoder(drop=&#x27;first&#x27;, sparse=False)</pre></div></div></div></div></div></div><div class=\"sk-parallel-item\"><div class=\"sk-item\"><div class=\"sk-label-container\"><div class=\"sk-label sk-toggleable\"><input class=\"sk-toggleable__control sk-hidden--visually\" id=\"6c791647-afd4-4092-9534-8ddc727f9410\" type=\"checkbox\" ><label for=\"6c791647-afd4-4092-9534-8ddc727f9410\" class=\"sk-toggleable__label sk-toggleable__label-arrow\">standardscaler</label><div class=\"sk-toggleable__content\"><pre>Index([&#x27;account_length&#x27;, &#x27;number_vmail_messages&#x27;, &#x27;total_day_minutes&#x27;,\n",
              "       &#x27;total_day_calls&#x27;, &#x27;total_day_charge&#x27;, &#x27;total_eve_minutes&#x27;,\n",
              "       &#x27;total_eve_calls&#x27;, &#x27;total_eve_charge&#x27;, &#x27;total_night_minutes&#x27;,\n",
              "       &#x27;total_night_calls&#x27;, &#x27;total_night_charge&#x27;, &#x27;total_intl_minutes&#x27;,\n",
              "       &#x27;total_intl_calls&#x27;, &#x27;total_intl_charge&#x27;, &#x27;customer_service_calls&#x27;],\n",
              "      dtype=&#x27;object&#x27;)</pre></div></div></div><div class=\"sk-serial\"><div class=\"sk-item\"><div class=\"sk-estimator sk-toggleable\"><input class=\"sk-toggleable__control sk-hidden--visually\" id=\"4603f0ef-f15a-474d-9207-1534e91f1770\" type=\"checkbox\" ><label for=\"4603f0ef-f15a-474d-9207-1534e91f1770\" class=\"sk-toggleable__label sk-toggleable__label-arrow\">StandardScaler</label><div class=\"sk-toggleable__content\"><pre>StandardScaler()</pre></div></div></div></div></div></div><div class=\"sk-parallel-item\"><div class=\"sk-item\"><div class=\"sk-label-container\"><div class=\"sk-label sk-toggleable\"><input class=\"sk-toggleable__control sk-hidden--visually\" id=\"b8ece682-287c-460e-9e67-f4cf63d9310b\" type=\"checkbox\" ><label for=\"b8ece682-287c-460e-9e67-f4cf63d9310b\" class=\"sk-toggleable__label sk-toggleable__label-arrow\">remainder</label><div class=\"sk-toggleable__content\"><pre>[]</pre></div></div></div><div class=\"sk-serial\"><div class=\"sk-item\"><div class=\"sk-estimator sk-toggleable\"><input class=\"sk-toggleable__control sk-hidden--visually\" id=\"44fe2b30-5663-48a6-84ec-b43fd42801cf\" type=\"checkbox\" ><label for=\"44fe2b30-5663-48a6-84ec-b43fd42801cf\" class=\"sk-toggleable__label sk-toggleable__label-arrow\">passthrough</label><div class=\"sk-toggleable__content\"><pre>passthrough</pre></div></div></div></div></div></div></div></div></div></div>"
            ]
          },
          "metadata": {},
          "execution_count": 20
        }
      ]
    },
    {
      "cell_type": "code",
      "source": [
        "X_train.shape, X_test.shape"
      ],
      "metadata": {
        "colab": {
          "base_uri": "https://localhost:8080/"
        },
        "id": "XddBHvrc-3V8",
        "outputId": "7829055a-8e19-48cb-9284-4a8566eb66e0"
      },
      "id": "XddBHvrc-3V8",
      "execution_count": 21,
      "outputs": [
        {
          "output_type": "execute_result",
          "data": {
            "text/plain": [
              "((2666, 18), (667, 18))"
            ]
          },
          "metadata": {},
          "execution_count": 21
        }
      ]
    },
    {
      "cell_type": "markdown",
      "source": [
        "## **Model Evaluation**"
      ],
      "metadata": {
        "id": "EcdzV6ytLjz5"
      },
      "id": "EcdzV6ytLjz5"
    },
    {
      "cell_type": "code",
      "source": [
        "y_pred = pipe.predict(X_test)"
      ],
      "metadata": {
        "id": "Hl8QNS5-FRKq"
      },
      "id": "Hl8QNS5-FRKq",
      "execution_count": 22,
      "outputs": []
    },
    {
      "cell_type": "code",
      "source": [
        "print(f\"Model Accuracy : {accuracy_score(y_test, y_pred)}\")\n",
        "print(f\"Model Precision : {precision_score(y_test, y_pred)}\")\n",
        "print(f\"Model Recall : {precision_score(y_test, y_pred)}\")\n",
        "print(f\"Model F1 : {f1_score(y_test, y_pred)}\")"
      ],
      "metadata": {
        "colab": {
          "base_uri": "https://localhost:8080/"
        },
        "id": "1ekBgIOV0NCR",
        "outputId": "6e6c2431-a7b7-4096-bbd2-2be5f4343850"
      },
      "id": "1ekBgIOV0NCR",
      "execution_count": 23,
      "outputs": [
        {
          "output_type": "stream",
          "name": "stdout",
          "text": [
            "Model Accuracy : 0.9550224887556222\n",
            "Model Precision : 0.9452054794520548\n",
            "Model Recall : 0.9452054794520548\n",
            "Model F1 : 0.8214285714285715\n"
          ]
        }
      ]
    },
    {
      "cell_type": "code",
      "source": [
        "print( classification_report(y_test, y_pred))"
      ],
      "metadata": {
        "colab": {
          "base_uri": "https://localhost:8080/"
        },
        "id": "-4ROB3O30RVN",
        "outputId": "bdce4134-7d25-47d7-b6fd-7b0ec7867be6"
      },
      "id": "-4ROB3O30RVN",
      "execution_count": 24,
      "outputs": [
        {
          "output_type": "stream",
          "name": "stdout",
          "text": [
            "              precision    recall  f1-score   support\n",
            "\n",
            "           0       0.96      0.99      0.97       572\n",
            "           1       0.95      0.73      0.82        95\n",
            "\n",
            "    accuracy                           0.96       667\n",
            "   macro avg       0.95      0.86      0.90       667\n",
            "weighted avg       0.95      0.96      0.95       667\n",
            "\n"
          ]
        }
      ]
    },
    {
      "cell_type": "code",
      "source": [
        "cf_matrix = confusion_matrix(y_test, y_pred)\n",
        "\n",
        "plt.figure(figsize = (10, 5))\n",
        "ax = sns.heatmap(cf_matrix, annot=True, cmap='Blues')\n",
        "\n",
        "ax.set_title('Seaborn Confusion Matrix with labels\\n\\n');\n",
        "ax.set_xlabel('\\nPredicted Values')\n",
        "ax.set_ylabel('Actual Values ');\n",
        "\n",
        "## Ticket labels - List must be in alphabetical order\n",
        "ax.xaxis.set_ticklabels(['False','True'])\n",
        "ax.yaxis.set_ticklabels(['False','True'])\n",
        "\n",
        "## Display the visualization of the Confusion Matrix.\n",
        "plt.show()"
      ],
      "metadata": {
        "colab": {
          "base_uri": "https://localhost:8080/",
          "height": 391
        },
        "id": "rQBau0ZvMwqv",
        "outputId": "44a0c698-ac5d-44e2-e716-dc13e628c937"
      },
      "id": "rQBau0ZvMwqv",
      "execution_count": 25,
      "outputs": [
        {
          "output_type": "display_data",
          "data": {
            "text/plain": [
              "<Figure size 720x360 with 2 Axes>"
            ],
            "image/png": "[encoded data removed]"
          },
          "metadata": {
            "needs_background": "light"
          }
        }
      ]
    },
    {
      "cell_type": "markdown",
      "source": [
        "## **Saving Model**"
      ],
      "metadata": {
        "id": "DC_IrIw-OQ_l"
      },
      "id": "DC_IrIw-OQ_l"
    },
    {
      "cell_type": "code",
      "source": [
        "with open(\"churnModel.pkl\", \"wb\") as file:\n",
        "  pickle.dump((pipe, call_prices), file)"
      ],
      "metadata": {
        "id": "b6DUhve2MjLz"
      },
      "id": "b6DUhve2MjLz",
      "execution_count": 27,
      "outputs": []
    }
  ],
  "metadata": {
    "kernelspec": {
      "display_name": "Python 3 (ipykernel)",
      "language": "python",
      "name": "python3"
    },
    "language_info": {
      "codemirror_mode": {
        "name": "ipython",
        "version": 3
      },
      "file_extension": ".py",
      "mimetype": "text/x-python",
      "name": "python",
      "nbconvert_exporter": "python",
      "pygments_lexer": "ipython3",
      "version": "3.8.8"
    },
    "colab": {
      "name": "Telecommunication_Churn.ipynb",
      "provenance": [],
      "collapsed_sections": [
        "d44c58d9",
        "4b952ad6",
        "J6vDoZHBE-y4",
        "_1aLLCja_6Cu",
        "uP_bLgCU2EDW",
        "l_lXl7Hw_Ld1"
      ]
    }
  },
  "nbformat": 4,
  "nbformat_minor": 5
}